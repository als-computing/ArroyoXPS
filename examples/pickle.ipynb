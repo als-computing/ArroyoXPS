{
 "cells": [
  {
   "cell_type": "code",
   "execution_count": 9,
   "metadata": {},
   "outputs": [],
   "source": [
    "import json\n",
    "import pickle\n",
    "\n",
    "def printit(file):\n",
    "    with open(file, 'rb') as f:\n",
    "        json_data = pickle.load(f)\n",
    "        try:\n",
    "            pretty_json = json.dumps(json.loads(json_data), indent=4)\n",
    "            print(pretty_json)\n",
    "        except:\n",
    "            print(\"not a json\")"
   ]
  },
  {
   "cell_type": "code",
   "execution_count": null,
   "metadata": {},
   "outputs": [],
   "source": []
  },
  {
   "cell_type": "code",
   "execution_count": 11,
   "metadata": {},
   "outputs": [
    {
     "name": "stdout",
     "output_type": "stream",
     "text": [
      "{\n",
      "    \"msg_type\": \"start\",\n",
      "    \"F_Trigger\": 13,\n",
      "    \"F_Un-Trigger\": 38,\n",
      "    \"F_Dead\": 45,\n",
      "    \"F_Reset\": 46,\n",
      "    \"CCD_nx\": 1392,\n",
      "    \"CCD_ny\": 1040,\n",
      "    \"Pass Energy\": 200,\n",
      "    \"Center Energy\": 3308,\n",
      "    \"Offset Energy\": -0.837,\n",
      "    \"Lens Mode\": \"X6-26Mar2022-test\",\n",
      "    \"Rectangle\": {\n",
      "        \"Left\": 148,\n",
      "        \"Top\": 385,\n",
      "        \"Right\": 1279,\n",
      "        \"Bottom\": 654,\n",
      "        \"Rotation\": 0\n",
      "    },\n",
      "    \"data_type\": \"U8\",\n",
      "    \"dt\": 0.0820741786426572,\n",
      "    \"Photon Energy\": 3999.99740398402,\n",
      "    \"Binding Energy\": 90,\n",
      "    \"File Ver\": \"1.0.0\"\n",
      "}\n"
     ]
    }
   ],
   "source": [
    "printit(\"../sample_data/scan4/0.pickle\")"
   ]
  },
  {
   "cell_type": "code",
   "execution_count": null,
   "metadata": {},
   "outputs": [],
   "source": []
  }
 ],
 "metadata": {
  "kernelspec": {
   "display_name": "apxps",
   "language": "python",
   "name": "python3"
  },
  "language_info": {
   "codemirror_mode": {
    "name": "ipython",
    "version": 3
   },
   "file_extension": ".py",
   "mimetype": "text/x-python",
   "name": "python",
   "nbconvert_exporter": "python",
   "pygments_lexer": "ipython3",
   "version": "3.12.7"
  }
 },
 "nbformat": 4,
 "nbformat_minor": 2
}
