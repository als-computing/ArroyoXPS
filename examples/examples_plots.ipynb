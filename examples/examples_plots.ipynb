{
 "cells": [
  {
   "cell_type": "markdown",
   "metadata": {},
   "source": [
    "## Notebook for example code runing"
   ]
  },
  {
   "cell_type": "code",
   "execution_count": null,
   "metadata": {},
   "outputs": [],
   "source": [
    "import matplotlib.pyplot as plt\n",
    "import time\n",
    "import numpy as np\n",
    "import collections\n",
    "\n",
    "from tr_ap_xps.peak_fitting import get_peaks"
   ]
  },
  {
   "cell_type": "code",
   "execution_count": null,
   "metadata": {},
   "outputs": [],
   "source": [
    "def plot_peak_locations_for_raw_data():\n",
    "    \"\"\"\n",
    "    This function will plot the peak locations for the entire data with path specified\n",
    "    \"\"\"\n",
    "    file_path = \"avg_array_3.npy\" # you will need to define \n",
    "    array = np.load(file_path)\n",
    "    print(array.shape)\n",
    "    sub_array = array[:300, :]\n",
    "    np.save('test_array_300_1131.npy', sub_array)\n",
    "    x = np.arange(array.shape[1])\n",
    "    peak_locations = collections.defaultdict(list)\n",
    "    start_time = time.time()\n",
    "    # for i in range(array.shape[0]):\n",
    "    for i in range(300):\n",
    "        y = array[i, :]\n",
    "        return_list, unfit_list, fit_list, residual, base_list = get_peaks(x, y, 2, 'g')\n",
    "        for peak in return_list:\n",
    "            peak_locations[i].append(peak['index'])\n",
    "\n",
    "    print(time.time() - start_time, \"s\") # 28 s for 300 frames\n",
    "    # plot the location of first and second peak\n",
    "    for key in peak_locations:\n",
    "        peak_locations[key].sort()\n",
    "    keys = list(peak_locations.keys())\n",
    "    first_peak_locations = [peak_locations[key][0] for key in keys]\n",
    "    second_peak_locations = [peak_locations[key][1] for key in keys]\n",
    "    plt.figure(figsize=(10, 5))\n",
    "    plt.plot(keys, first_peak_locations, label='First Peak Mean', marker='o')\n",
    "    plt.plot(keys, second_peak_locations , label='Second Peak Mean', marker='o')\n",
    "    plt.grid(True)\n",
    "    plt.show()"
   ]
  }
 ],
 "metadata": {
  "language_info": {
   "name": "python"
  }
 },
 "nbformat": 4,
 "nbformat_minor": 2
}
