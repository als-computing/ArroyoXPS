{
 "cells": [
  {
   "cell_type": "code",
   "execution_count": null,
   "metadata": {},
   "outputs": [],
   "source": [
    "%load_ext autoreload\n",
    "%autoreload 2\n",
    "\n",
    "import os\n",
    "\n",
    "import matplotlib.pyplot as plt\n",
    "import numpy as np\n",
    "import pandas as pd\n",
    "import dotenv\n",
    "\n",
    "from tiled.client import from_uri\n",
    "\n",
    "from tr_ap_xps.writer import XPSDataSet\n",
    "\n",
    "dotenv.load_dotenv()\n",
    "\n",
    "client = from_uri(\"http://localhost:8000/api\", api_key=os.getenv(\"TILED_SINGLE_USER_API_KEY\"))\n",
    "if client.get(\"runs\") is None:\n",
    "    client.create_container(\"runs\")"
   ]
  },
  {
   "cell_type": "markdown",
   "metadata": {},
   "source": [
    "# Run\n",
    "Perform a \"run\" with random data"
   ]
  },
  {
   "cell_type": "code",
   "execution_count": null,
   "metadata": {},
   "outputs": [],
   "source": [
    "xps_dataset = XPSDataSet(client, \"xps22\")\n",
    "\n",
    "for x in range(1000):\n",
    "    frame = np.random.rand(500, 1000)\n",
    "    xps_dataset.new_frame(frame)\n",
    "\n",
    "xps_dataset.finish()"
   ]
  },
  {
   "cell_type": "markdown",
   "metadata": {},
   "source": [
    "# How long did it take?\n",
    "\n",
    "We stored a table in Tiled for timing. We can see how long function calls took per frame."
   ]
  },
  {
   "cell_type": "code",
   "execution_count": null,
   "metadata": {},
   "outputs": [],
   "source": [
    "data = xps_dataset.timing_node.read()\n",
    "\n",
    "for column in data.columns:\n",
    "    plt.figure()  # Create a new figure for each plot\n",
    "    plt.plot(data[column])\n",
    "    plt.xlabel('Index')\n",
    "    plt.ylabel(column)\n",
    "    plt.title(f'Line Plot of {column}')\n",
    "    plt.show()\n",
    "\n",
    "plt.legend()\n",
    "plt.show()\n"
   ]
  },
  {
   "cell_type": "code",
   "execution_count": null,
   "metadata": {},
   "outputs": [],
   "source": [
    "\n",
    "\n",
    "plt.imshow(xps_dataset.lines_raw_node.read())\n",
    "plt.colorbar()\n",
    "plt.title('Horizontally integrated frames')\n",
    "plt.show()\n",
    "\n",
    "\n",
    "plt.imshow(xps_dataset.lines_filtered_node.read())\n",
    "plt.colorbar()\n",
    "plt.title('Horizontally integrated filtered frames')\n",
    "plt.show()"
   ]
  },
  {
   "cell_type": "code",
   "execution_count": null,
   "metadata": {},
   "outputs": [],
   "source": []
  },
  {
   "cell_type": "code",
   "execution_count": null,
   "metadata": {},
   "outputs": [],
   "source": []
  }
 ],
 "metadata": {
  "kernelspec": {
   "display_name": "apxps",
   "language": "python",
   "name": "python3"
  },
  "language_info": {
   "codemirror_mode": {
    "name": "ipython",
    "version": 3
   },
   "file_extension": ".py",
   "mimetype": "text/x-python",
   "name": "python",
   "nbconvert_exporter": "python",
   "pygments_lexer": "ipython3",
   "version": "3.12.3"
  }
 },
 "nbformat": 4,
 "nbformat_minor": 2
}
