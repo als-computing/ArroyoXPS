{
 "cells": [
  {
   "cell_type": "code",
   "execution_count": 4,
   "metadata": {},
   "outputs": [],
   "source": [
    "%load_ext autoreload\n",
    "%autoreload 2\n"
   ]
  },
  {
   "cell_type": "code",
   "execution_count": 5,
   "metadata": {},
   "outputs": [],
   "source": [
    "\n",
    "import os\n",
    "\n",
    "import matplotlib.pyplot as plt\n",
    "import numpy as np\n",
    "import dotenv\n",
    "\n",
    "from tiled.client import from_uri\n",
    "\n",
    "from tr_ap_xps.processor import XPSProcessor, Result\n",
    "from tr_ap_xps.cli import listen\n",
    "\n",
    "dotenv.load_dotenv()\n",
    "\n",
    "client = from_uri(\"http://localhost:8000/api\", api_key=os.getenv(\"TILED_SINGLE_USER_API_KEY\"))\n",
    "if client.get(\"runs\") is None:\n",
    "    client.create_container(\"runs\")"
   ]
  },
  {
   "cell_type": "markdown",
   "metadata": {},
   "source": [
    "# Run\n",
    "(optional) Perform a \"run\" with random data. In a separate terminal, startup the labview simulator:\n",
    "\n",
    "```\n",
    "python -m tr_ap_xps.simulator\n",
    "```\n",
    "\n",
    "Now, start the processor in a terminal:\n",
    "\n",
    "```\n",
    "python -m tr_ap_xps.cli\n",
    "```"
   ]
  },
  {
   "cell_type": "code",
   "execution_count": 2,
   "metadata": {},
   "outputs": [],
   "source": [
    "import threading\n",
    "\n",
    "import numpy as np\n",
    "import zmq\n",
    "\n",
    "from tr_ap_xps.processor import Result\n",
    "\n",
    "\n",
    "def got_a_result(result):\n",
    "    print(result)    \n",
    "    plt.imshow(result.integrated_frame)\n",
    "    plt.imshow(result.filtered_integrated_frame)\n",
    "    plt.show()\n",
    "\n",
    "\n",
    "def listen():\n",
    "    while True:\n",
    "        frame_info = socket.recv_json()\n",
    "        integrated_frame = socket.recv()\n",
    "        filtered_integrated_frame = socket.recv()\n",
    "        shape = frame_info['shape']\n",
    "        print(f\"{shape=}\")\n",
    "        print(f\"{tuple(shape)=}\")\n",
    "        np_integrated_frame = np.frombuffer(integrated_frame, dtype=frame_info['dtype']).reshape(tuple(shape))\n",
    "        np_integrated_filtered_frame = np.frombuffer(filtered_integrated_frame, dtype=frame_info['dtype']).reshape(tuple(shape))\n",
    "        got_a_result(\n",
    "            Result(\n",
    "                frame_info['frame_number'],\n",
    "                np.frombuffer(np_integrated_frame),\n",
    "                np.frombuffer(np_integrated_filtered_frame)))\n",
    "        \n",
    "\n",
    "\n",
    "ctx = zmq.Context()\n",
    "socket = ctx.socket(zmq.SUB)\n",
    "socket.connect(\"tcp://127.0.0.1:5559\")\n",
    "socket.setsockopt(zmq.SUBSCRIBE, b\"\")\n",
    "\n",
    "# Create and start a new thread for the listen function\n",
    "listen_thread = threading.Thread(target=listen)\n",
    "listen_thread.start()\n"
   ]
  },
  {
   "cell_type": "code",
   "execution_count": 3,
   "metadata": {},
   "outputs": [
    {
     "name": "stderr",
     "output_type": "stream",
     "text": [
      "Exception in thread Thread-4 (listen):\n",
      "Traceback (most recent call last):\n",
      "  File \"/home/dylan/miniconda3/envs/apxps/lib/python3.12/threading.py\", line 1073, in _bootstrap_inner\n",
      "    self.run()\n",
      "  File \"/home/dylan/miniconda3/envs/apxps/lib/python3.12/site-packages/ipykernel/ipkernel.py\", line 761, in run_closure\n",
      "    _threading_Thread_run(self)\n",
      "  File \"/home/dylan/miniconda3/envs/apxps/lib/python3.12/threading.py\", line 1010, in run\n",
      "    self._target(*self._args, **self._kwargs)\n",
      "  File \"/tmp/ipykernel_237514/1654708626.py\", line 26, in listen\n",
      "  File \"/tmp/ipykernel_237514/1654708626.py\", line 11, in got_a_result\n",
      "  File \"/home/dylan/miniconda3/envs/apxps/lib/python3.12/site-packages/matplotlib/pyplot.py\", line 3476, in imshow\n",
      "    __ret = gca().imshow(\n",
      "            ^^^^^^^^^^^^^\n",
      "  File \"/home/dylan/miniconda3/envs/apxps/lib/python3.12/site-packages/matplotlib/__init__.py\", line 1473, in inner\n",
      "    return func(\n",
      "           ^^^^^\n",
      "  File \"/home/dylan/miniconda3/envs/apxps/lib/python3.12/site-packages/matplotlib/axes/_axes.py\", line 5895, in imshow\n",
      "    im.set_data(X)\n",
      "  File \"/home/dylan/miniconda3/envs/apxps/lib/python3.12/site-packages/matplotlib/image.py\", line 729, in set_data\n",
      "    self._A = self._normalize_image_array(A)\n",
      "              ^^^^^^^^^^^^^^^^^^^^^^^^^^^^^^\n",
      "  File \"/home/dylan/miniconda3/envs/apxps/lib/python3.12/site-packages/matplotlib/image.py\", line 697, in _normalize_image_array\n",
      "    raise TypeError(f\"Invalid shape {A.shape} for image data\")\n",
      "TypeError: Invalid shape (100,) for image data\n"
     ]
    },
    {
     "name": "stdout",
     "output_type": "stream",
     "text": [
      "shape=[1, 100]\n",
      "tuple(shape)=(1, 100)\n",
      "Result(frame_number=0, integrated_frame=array([1005.626, 1019.335, 1001.242, 1002.48 ,  974.181, 1013.157,\n",
      "        997.804, 1006.143,  986.446, 1013.901, 1002.729, 1020.789,\n",
      "        983.27 , 1009.276,  977.732, 1014.66 , 1000.733,  972.923,\n",
      "        987.693,  990.083,  984.417,  972.425,  991.815,  999.517,\n",
      "       1003.342, 1009.124,  992.663,  999.724, 1001.301,  976.455,\n",
      "        985.484, 1030.093, 1014.893,  990.859,  986.21 , 1002.429,\n",
      "       1016.1  ,  975.23 , 1011.709,  962.983, 1016.017,  976.626,\n",
      "        986.85 ,  955.962,  997.005,  985.164,  994.324,  972.542,\n",
      "        998.378,  982.649, 1008.54 ,  975.391, 1008.325, 1022.049,\n",
      "        992.771, 1026.512, 1024.563,  992.079, 1003.38 , 1016.821,\n",
      "        976.634,  988.401, 1007.044,  985.801, 1009.982, 1002.46 ,\n",
      "        996.518, 1027.269, 1015.629,  978.547, 1011.097, 1001.726,\n",
      "        984.489, 1001.212, 1038.528,  979.636,  978.155, 1015.275,\n",
      "        955.509,  995.64 , 1008.252, 1002.787, 1017.613, 1016.21 ,\n",
      "       1032.536,  974.638, 1020.811,  984.677,  962.843,  989.786,\n",
      "       1008.414, 1010.598, 1009.652, 1011.075,  962.952,  993.374,\n",
      "        992.25 ,  992.925, 1021.762,  975.902]), filtered_integrated_frame=array([1005.626, 1019.335, 1001.242, 1002.48 ,  974.181, 1013.157,\n",
      "        997.804, 1006.143,  986.446, 1013.901, 1002.729, 1020.789,\n",
      "        983.27 , 1009.276,  977.732, 1014.66 , 1000.733,  972.923,\n",
      "        987.693,  990.083,  984.417,  972.425,  991.815,  999.517,\n",
      "       1003.342, 1009.124,  992.663,  999.724, 1001.301,  976.455,\n",
      "        985.484, 1030.093, 1014.893,  990.859,  986.21 , 1002.429,\n",
      "       1016.1  ,  975.23 , 1011.709,  962.983, 1016.017,  976.626,\n",
      "        986.85 ,  955.962,  997.005,  985.164,  994.324,  972.542,\n",
      "        998.378,  982.649, 1008.54 ,  975.391, 1008.325, 1022.049,\n",
      "        992.771, 1026.512, 1024.563,  992.079, 1003.38 , 1016.821,\n",
      "        976.634,  988.401, 1007.044,  985.801, 1009.982, 1002.46 ,\n",
      "        996.518, 1027.269, 1015.629,  978.547, 1011.097, 1001.726,\n",
      "        984.489, 1001.212, 1038.528,  979.636,  978.155, 1015.275,\n",
      "        955.509,  995.64 , 1008.252, 1002.787, 1017.613, 1016.21 ,\n",
      "       1032.536,  974.638, 1020.811,  984.677,  962.843,  989.786,\n",
      "       1008.414, 1010.598, 1009.652, 1011.075,  962.952,  993.374,\n",
      "        992.25 ,  992.925, 1021.762,  975.902]))\n"
     ]
    },
    {
     "data": {
      "image/png": "[encoded data removed]",
      "text/plain": [
       "<Figure size 640x480 with 1 Axes>"
      ]
     },
     "metadata": {},
     "output_type": "display_data"
    }
   ],
   "source": [
    "listen_thread.join()"
   ]
  },
  {
   "cell_type": "code",
   "execution_count": 12,
   "metadata": {},
   "outputs": [
    {
     "ename": "NameError",
     "evalue": "name 'filtered_integrated_frame' is not defined",
     "output_type": "error",
     "traceback": [
      "\u001b[0;31m---------------------------------------------------------------------------\u001b[0m",
      "\u001b[0;31mNameError\u001b[0m                                 Traceback (most recent call last)",
      "Cell \u001b[0;32mIn[12], line 1\u001b[0m\n\u001b[0;32m----> 1\u001b[0m np_integrated_filtered_frame \u001b[38;5;241m=\u001b[39m np\u001b[38;5;241m.\u001b[39mfrombuffer(\u001b[43mfiltered_integrated_frame\u001b[49m, dtype\u001b[38;5;241m=\u001b[39mframe_info[\u001b[38;5;124m'\u001b[39m\u001b[38;5;124mdtype\u001b[39m\u001b[38;5;124m'\u001b[39m])\u001b[38;5;241m.\u001b[39mreshape(\u001b[38;5;28mtuple\u001b[39m(shape))\n",
      "\u001b[0;31mNameError\u001b[0m: name 'filtered_integrated_frame' is not defined"
     ]
    }
   ],
   "source": [
    "np_integrated_filtered_frame = np.frombuffer(filtered_integrated_frame, dtype=frame_info['dtype']).reshape(tuple(shape))"
   ]
  },
  {
   "cell_type": "markdown",
   "metadata": {},
   "source": [
    "\n",
    "# How long did it take?\n",
    "\n",
    "We stored a table in Tiled for timing. We can see how long function calls took per frame."
   ]
  },
  {
   "cell_type": "code",
   "execution_count": null,
   "metadata": {},
   "outputs": [],
   "source": [
    "data = xps_dataset.timing_node.read()\n",
    "\n",
    "for column in data.columns:\n",
    "    plt.figure()  # Create a new figure for each plot\n",
    "    plt.plot(data[column])\n",
    "    plt.xlabel('Index')\n",
    "    plt.ylabel(column)\n",
    "    plt.title(f'Line Plot of {column}')\n",
    "    plt.show()\n",
    "\n",
    "plt.legend()\n",
    "plt.show()\n"
   ]
  },
  {
   "cell_type": "code",
   "execution_count": null,
   "metadata": {},
   "outputs": [],
   "source": [
    "\n",
    "\n",
    "plt.imshow(xps_dataset.lines_raw_node.read())\n",
    "plt.colorbar()\n",
    "plt.title('Horizontally integrated frames')\n",
    "plt.show()\n",
    "\n",
    "\n",
    "plt.imshow(xps_dataset.lines_filtered_node.read())\n",
    "plt.colorbar()\n",
    "plt.title('Horizontally integrated filtered frames')\n",
    "plt.show()"
   ]
  },
  {
   "cell_type": "code",
   "execution_count": null,
   "metadata": {},
   "outputs": [],
   "source": []
  },
  {
   "cell_type": "code",
   "execution_count": null,
   "metadata": {},
   "outputs": [],
   "source": []
  }
 ],
 "metadata": {
  "kernelspec": {
   "display_name": "apxps",
   "language": "python",
   "name": "python3"
  },
  "language_info": {
   "codemirror_mode": {
    "name": "ipython",
    "version": 3
   },
   "file_extension": ".py",
   "mimetype": "text/x-python",
   "name": "python",
   "nbconvert_exporter": "python",
   "pygments_lexer": "ipython3",
   "version": "3.12.3"
  }
 },
 "nbformat": 4,
 "nbformat_minor": 2
}
